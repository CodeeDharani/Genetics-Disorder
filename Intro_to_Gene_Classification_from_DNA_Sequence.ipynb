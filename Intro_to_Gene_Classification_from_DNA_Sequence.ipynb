{
  "nbformat": 4,
  "nbformat_minor": 0,
  "metadata": {
    "colab": {
      "provenance": [],
      "mount_file_id": "1i4U4ZRy8AziGbBtbkAwdtzclfFZ7y15z",
      "authorship_tag": "ABX9TyOiKF2Vg6sptuTDDo82gRUH",
      "include_colab_link": true
    },
    "kernelspec": {
      "name": "python3",
      "display_name": "Python 3"
    },
    "language_info": {
      "name": "python"
    }
  },
  "cells": [
    {
      "cell_type": "markdown",
      "metadata": {
        "id": "view-in-github",
        "colab_type": "text"
      },
      "source": [
        "<a href=\"https://colab.research.google.com/github/CodeeDharani/Genetics-Disorder/blob/main/Intro_to_Gene_Classification_from_DNA_Sequence.ipynb\" target=\"_parent\"><img src=\"https://colab.research.google.com/assets/colab-badge.svg\" alt=\"Open In Colab\"/></a>"
      ]
    },
    {
      "cell_type": "code",
      "execution_count": 7,
      "metadata": {
        "id": "eNOkVKyv9Dt2"
      },
      "outputs": [],
      "source": [
        "import pandas as pd\n",
        "import numpy as np\n",
        "import Bio\n",
        "import matplotlib.pyplot as plt\n",
        "%matplotlib inline\n",
        "import seaborn as sns\n",
        "from IPython.display import Image\n",
        "sns.set()"
      ]
    },
    {
      "cell_type": "code",
      "source": [
        "!pip install bio"
      ],
      "metadata": {
        "colab": {
          "base_uri": "https://localhost:8080/"
        },
        "id": "I9PG1BE59M5q",
        "outputId": "20f5098a-0637-41e3-d6ee-a4abb139225a"
      },
      "execution_count": 6,
      "outputs": [
        {
          "output_type": "stream",
          "name": "stdout",
          "text": [
            "Looking in indexes: https://pypi.org/simple, https://us-python.pkg.dev/colab-wheels/public/simple/\n",
            "Collecting bio\n",
            "  Downloading bio-1.5.6-py3-none-any.whl (275 kB)\n",
            "\u001b[2K     \u001b[90m━━━━━━━━━━━━━━━━━━━━━━━━━━━━━━━━━━━━━━━\u001b[0m \u001b[32m275.6/275.6 KB\u001b[0m \u001b[31m5.9 MB/s\u001b[0m eta \u001b[36m0:00:00\u001b[0m\n",
            "\u001b[?25hCollecting mygene\n",
            "  Downloading mygene-3.2.2-py2.py3-none-any.whl (5.4 kB)\n",
            "Collecting biopython>=1.80\n",
            "  Downloading biopython-1.81-cp38-cp38-manylinux_2_17_x86_64.manylinux2014_x86_64.whl (3.1 MB)\n",
            "\u001b[2K     \u001b[90m━━━━━━━━━━━━━━━━━━━━━━━━━━━━━━━━━━━━━━━━\u001b[0m \u001b[32m3.1/3.1 MB\u001b[0m \u001b[31m49.6 MB/s\u001b[0m eta \u001b[36m0:00:00\u001b[0m\n",
            "\u001b[?25hRequirement already satisfied: pooch in /usr/local/lib/python3.8/dist-packages (from bio) (1.6.0)\n",
            "Requirement already satisfied: requests in /usr/local/lib/python3.8/dist-packages (from bio) (2.25.1)\n",
            "Requirement already satisfied: tqdm in /usr/local/lib/python3.8/dist-packages (from bio) (4.64.1)\n",
            "Collecting gprofiler-official\n",
            "  Downloading gprofiler_official-1.0.0-py3-none-any.whl (9.3 kB)\n",
            "Requirement already satisfied: pandas in /usr/local/lib/python3.8/dist-packages (from bio) (1.3.5)\n",
            "Requirement already satisfied: numpy in /usr/local/lib/python3.8/dist-packages (from biopython>=1.80->bio) (1.22.4)\n",
            "Collecting biothings-client>=0.2.6\n",
            "  Downloading biothings_client-0.2.6-py2.py3-none-any.whl (37 kB)\n",
            "Requirement already satisfied: python-dateutil>=2.7.3 in /usr/local/lib/python3.8/dist-packages (from pandas->bio) (2.8.2)\n",
            "Requirement already satisfied: pytz>=2017.3 in /usr/local/lib/python3.8/dist-packages (from pandas->bio) (2022.7.1)\n",
            "Requirement already satisfied: appdirs>=1.3.0 in /usr/local/lib/python3.8/dist-packages (from pooch->bio) (1.4.4)\n",
            "Requirement already satisfied: packaging>=20.0 in /usr/local/lib/python3.8/dist-packages (from pooch->bio) (23.0)\n",
            "Requirement already satisfied: certifi>=2017.4.17 in /usr/local/lib/python3.8/dist-packages (from requests->bio) (2022.12.7)\n",
            "Requirement already satisfied: urllib3<1.27,>=1.21.1 in /usr/local/lib/python3.8/dist-packages (from requests->bio) (1.24.3)\n",
            "Requirement already satisfied: idna<3,>=2.5 in /usr/local/lib/python3.8/dist-packages (from requests->bio) (2.10)\n",
            "Requirement already satisfied: chardet<5,>=3.0.2 in /usr/local/lib/python3.8/dist-packages (from requests->bio) (4.0.0)\n",
            "Requirement already satisfied: six>=1.5 in /usr/local/lib/python3.8/dist-packages (from python-dateutil>=2.7.3->pandas->bio) (1.15.0)\n",
            "Installing collected packages: biopython, gprofiler-official, biothings-client, mygene, bio\n",
            "Successfully installed bio-1.5.6 biopython-1.81 biothings-client-0.2.6 gprofiler-official-1.0.0 mygene-3.2.2\n"
          ]
        }
      ]
    },
    {
      "cell_type": "code",
      "source": [
        "import Bio"
      ],
      "metadata": {
        "id": "m6nYm1vR9ZXN"
      },
      "execution_count": 8,
      "outputs": []
    },
    {
      "cell_type": "code",
      "source": [
        "humandata = pd.read_table('/content/drive/MyDrive/human_data.txt')\n",
        "humandata.head()"
      ],
      "metadata": {
        "colab": {
          "base_uri": "https://localhost:8080/",
          "height": 206
        },
        "id": "DWkyLT7J9gly",
        "outputId": "9e39e453-9c0a-41e0-b099-1d2c26b10282"
      },
      "execution_count": 9,
      "outputs": [
        {
          "output_type": "execute_result",
          "data": {
            "text/plain": [
              "                                            sequence  class\n",
              "0  ATGCCCCAACTAAATACTACCGTATGGCCCACCATAATTACCCCCA...      4\n",
              "1  ATGAACGAAAATCTGTTCGCTTCATTCATTGCCCCCACAATCCTAG...      4\n",
              "2  ATGTGTGGCATTTGGGCGCTGTTTGGCAGTGATGATTGCCTTTCTG...      3\n",
              "3  ATGTGTGGCATTTGGGCGCTGTTTGGCAGTGATGATTGCCTTTCTG...      3\n",
              "4  ATGCAACAGCATTTTGAATTTGAATACCAGACCAAAGTGGATGGTG...      3"
            ],
            "text/html": [
              "\n",
              "  <div id=\"df-3b03d50e-100d-4c2f-9527-407d4749c88b\">\n",
              "    <div class=\"colab-df-container\">\n",
              "      <div>\n",
              "<style scoped>\n",
              "    .dataframe tbody tr th:only-of-type {\n",
              "        vertical-align: middle;\n",
              "    }\n",
              "\n",
              "    .dataframe tbody tr th {\n",
              "        vertical-align: top;\n",
              "    }\n",
              "\n",
              "    .dataframe thead th {\n",
              "        text-align: right;\n",
              "    }\n",
              "</style>\n",
              "<table border=\"1\" class=\"dataframe\">\n",
              "  <thead>\n",
              "    <tr style=\"text-align: right;\">\n",
              "      <th></th>\n",
              "      <th>sequence</th>\n",
              "      <th>class</th>\n",
              "    </tr>\n",
              "  </thead>\n",
              "  <tbody>\n",
              "    <tr>\n",
              "      <th>0</th>\n",
              "      <td>ATGCCCCAACTAAATACTACCGTATGGCCCACCATAATTACCCCCA...</td>\n",
              "      <td>4</td>\n",
              "    </tr>\n",
              "    <tr>\n",
              "      <th>1</th>\n",
              "      <td>ATGAACGAAAATCTGTTCGCTTCATTCATTGCCCCCACAATCCTAG...</td>\n",
              "      <td>4</td>\n",
              "    </tr>\n",
              "    <tr>\n",
              "      <th>2</th>\n",
              "      <td>ATGTGTGGCATTTGGGCGCTGTTTGGCAGTGATGATTGCCTTTCTG...</td>\n",
              "      <td>3</td>\n",
              "    </tr>\n",
              "    <tr>\n",
              "      <th>3</th>\n",
              "      <td>ATGTGTGGCATTTGGGCGCTGTTTGGCAGTGATGATTGCCTTTCTG...</td>\n",
              "      <td>3</td>\n",
              "    </tr>\n",
              "    <tr>\n",
              "      <th>4</th>\n",
              "      <td>ATGCAACAGCATTTTGAATTTGAATACCAGACCAAAGTGGATGGTG...</td>\n",
              "      <td>3</td>\n",
              "    </tr>\n",
              "  </tbody>\n",
              "</table>\n",
              "</div>\n",
              "      <button class=\"colab-df-convert\" onclick=\"convertToInteractive('df-3b03d50e-100d-4c2f-9527-407d4749c88b')\"\n",
              "              title=\"Convert this dataframe to an interactive table.\"\n",
              "              style=\"display:none;\">\n",
              "        \n",
              "  <svg xmlns=\"http://www.w3.org/2000/svg\" height=\"24px\"viewBox=\"0 0 24 24\"\n",
              "       width=\"24px\">\n",
              "    <path d=\"M0 0h24v24H0V0z\" fill=\"none\"/>\n",
              "    <path d=\"M18.56 5.44l.94 2.06.94-2.06 2.06-.94-2.06-.94-.94-2.06-.94 2.06-2.06.94zm-11 1L8.5 8.5l.94-2.06 2.06-.94-2.06-.94L8.5 2.5l-.94 2.06-2.06.94zm10 10l.94 2.06.94-2.06 2.06-.94-2.06-.94-.94-2.06-.94 2.06-2.06.94z\"/><path d=\"M17.41 7.96l-1.37-1.37c-.4-.4-.92-.59-1.43-.59-.52 0-1.04.2-1.43.59L10.3 9.45l-7.72 7.72c-.78.78-.78 2.05 0 2.83L4 21.41c.39.39.9.59 1.41.59.51 0 1.02-.2 1.41-.59l7.78-7.78 2.81-2.81c.8-.78.8-2.07 0-2.86zM5.41 20L4 18.59l7.72-7.72 1.47 1.35L5.41 20z\"/>\n",
              "  </svg>\n",
              "      </button>\n",
              "      \n",
              "  <style>\n",
              "    .colab-df-container {\n",
              "      display:flex;\n",
              "      flex-wrap:wrap;\n",
              "      gap: 12px;\n",
              "    }\n",
              "\n",
              "    .colab-df-convert {\n",
              "      background-color: #E8F0FE;\n",
              "      border: none;\n",
              "      border-radius: 50%;\n",
              "      cursor: pointer;\n",
              "      display: none;\n",
              "      fill: #1967D2;\n",
              "      height: 32px;\n",
              "      padding: 0 0 0 0;\n",
              "      width: 32px;\n",
              "    }\n",
              "\n",
              "    .colab-df-convert:hover {\n",
              "      background-color: #E2EBFA;\n",
              "      box-shadow: 0px 1px 2px rgba(60, 64, 67, 0.3), 0px 1px 3px 1px rgba(60, 64, 67, 0.15);\n",
              "      fill: #174EA6;\n",
              "    }\n",
              "\n",
              "    [theme=dark] .colab-df-convert {\n",
              "      background-color: #3B4455;\n",
              "      fill: #D2E3FC;\n",
              "    }\n",
              "\n",
              "    [theme=dark] .colab-df-convert:hover {\n",
              "      background-color: #434B5C;\n",
              "      box-shadow: 0px 1px 3px 1px rgba(0, 0, 0, 0.15);\n",
              "      filter: drop-shadow(0px 1px 2px rgba(0, 0, 0, 0.3));\n",
              "      fill: #FFFFFF;\n",
              "    }\n",
              "  </style>\n",
              "\n",
              "      <script>\n",
              "        const buttonEl =\n",
              "          document.querySelector('#df-3b03d50e-100d-4c2f-9527-407d4749c88b button.colab-df-convert');\n",
              "        buttonEl.style.display =\n",
              "          google.colab.kernel.accessAllowed ? 'block' : 'none';\n",
              "\n",
              "        async function convertToInteractive(key) {\n",
              "          const element = document.querySelector('#df-3b03d50e-100d-4c2f-9527-407d4749c88b');\n",
              "          const dataTable =\n",
              "            await google.colab.kernel.invokeFunction('convertToInteractive',\n",
              "                                                     [key], {});\n",
              "          if (!dataTable) return;\n",
              "\n",
              "          const docLinkHtml = 'Like what you see? Visit the ' +\n",
              "            '<a target=\"_blank\" href=https://colab.research.google.com/notebooks/data_table.ipynb>data table notebook</a>'\n",
              "            + ' to learn more about interactive tables.';\n",
              "          element.innerHTML = '';\n",
              "          dataTable['output_type'] = 'display_data';\n",
              "          await google.colab.output.renderOutput(dataTable, element);\n",
              "          const docLink = document.createElement('div');\n",
              "          docLink.innerHTML = docLinkHtml;\n",
              "          element.appendChild(docLink);\n",
              "        }\n",
              "      </script>\n",
              "    </div>\n",
              "  </div>\n",
              "  "
            ]
          },
          "metadata": {},
          "execution_count": 9
        }
      ]
    },
    {
      "cell_type": "code",
      "source": [
        "humandata.info()"
      ],
      "metadata": {
        "colab": {
          "base_uri": "https://localhost:8080/"
        },
        "id": "MqcmWlUy_zqh",
        "outputId": "5358653a-0712-4f86-b4ca-c824925d7281"
      },
      "execution_count": 10,
      "outputs": [
        {
          "output_type": "stream",
          "name": "stdout",
          "text": [
            "<class 'pandas.core.frame.DataFrame'>\n",
            "RangeIndex: 4380 entries, 0 to 4379\n",
            "Data columns (total 2 columns):\n",
            " #   Column    Non-Null Count  Dtype \n",
            "---  ------    --------------  ----- \n",
            " 0   sequence  4380 non-null   object\n",
            " 1   class     4380 non-null   int64 \n",
            "dtypes: int64(1), object(1)\n",
            "memory usage: 68.6+ KB\n"
          ]
        }
      ]
    },
    {
      "cell_type": "code",
      "source": [
        "## 4380 Sequences are there\n",
        "humandata['class'].value_counts().sort_index().plot.bar()\n",
        "plt.title(\"Gene Family\")\n",
        "plt.show()"
      ],
      "metadata": {
        "colab": {
          "base_uri": "https://localhost:8080/",
          "height": 281
        },
        "id": "mG7E4PNp_5W6",
        "outputId": "2668ee63-528d-4933-83b2-d0a3b11d542f"
      },
      "execution_count": 11,
      "outputs": [
        {
          "output_type": "display_data",
          "data": {
            "text/plain": [
              "<Figure size 432x288 with 1 Axes>"
            ],
            "image/png": "[encoded data removed]"
          },
          "metadata": {}
        }
      ]
    },
    {
      "cell_type": "code",
      "source": [
        "Image('/content/drive/MyDrive/_results_.png')"
      ],
      "metadata": {
        "id": "YlFlU8Gm_6qH",
        "colab": {
          "base_uri": "https://localhost:8080/",
          "height": 352
        },
        "outputId": "4c228d4c-d802-4275-91a3-64069b366634"
      },
      "execution_count": 12,
      "outputs": [
        {
          "output_type": "execute_result",
          "data": {
            "image/png": "[encoded data removed]",
            "text/plain": [
              "<IPython.core.display.Image object>"
            ]
          },
          "metadata": {},
          "execution_count": 12
        }
      ]
    },
    {
      "cell_type": "code",
      "source": [
        "display(humandata[\"sequence\"][0])\n",
        "\n",
        "print(f'length of Sequence 1 : {len(humandata[\"sequence\"][0])}')"
      ],
      "metadata": {
        "colab": {
          "base_uri": "https://localhost:8080/",
          "height": 70
        },
        "id": "jVmGba-VAy5u",
        "outputId": "b9551a1d-d185-4420-fe09-fffc2905c779"
      },
      "execution_count": 13,
      "outputs": [
        {
          "output_type": "display_data",
          "data": {
            "text/plain": [
              "'ATGCCCCAACTAAATACTACCGTATGGCCCACCATAATTACCCCCATACTCCTTACACTATTCCTCATCACCCAACTAAAAATATTAAACACAAACTACCACCTACCTCCCTCACCAAAGCCCATAAAAATAAAAAATTATAACAAACCCTGAGAACCAAAATGAACGAAAATCTGTTCGCTTCATTCATTGCCCCCACAATCCTAG'"
            ],
            "application/vnd.google.colaboratory.intrinsic+json": {
              "type": "string"
            }
          },
          "metadata": {}
        },
        {
          "output_type": "stream",
          "name": "stdout",
          "text": [
            "length of Sequence 1 : 207\n"
          ]
        }
      ]
    },
    {
      "cell_type": "code",
      "source": [
        "from Bio.Seq import Seq\n",
        "my_seq = Seq(humandata[\"sequence\"][0])\n",
        "print(my_seq)"
      ],
      "metadata": {
        "colab": {
          "base_uri": "https://localhost:8080/"
        },
        "id": "8bIxCDH1A3Ac",
        "outputId": "d269eba7-383e-4b58-ba25-2808d4099794"
      },
      "execution_count": 14,
      "outputs": [
        {
          "output_type": "stream",
          "name": "stdout",
          "text": [
            "ATGCCCCAACTAAATACTACCGTATGGCCCACCATAATTACCCCCATACTCCTTACACTATTCCTCATCACCCAACTAAAAATATTAAACACAAACTACCACCTACCTCCCTCACCAAAGCCCATAAAAATAAAAAATTATAACAAACCCTGAGAACCAAAATGAACGAAAATCTGTTCGCTTCATTCATTGCCCCCACAATCCTAG\n"
          ]
        }
      ]
    },
    {
      "cell_type": "code",
      "source": [
        "print(f\" Complement : {my_seq.complement()} \\n\")\n",
        "print(f\"Reverse Complement :  {my_seq.reverse_complement()} \" )"
      ],
      "metadata": {
        "colab": {
          "base_uri": "https://localhost:8080/"
        },
        "id": "mO21mfS5BAFe",
        "outputId": "488e6db0-eeb2-411e-c50b-fbbc92dc06b8"
      },
      "execution_count": 15,
      "outputs": [
        {
          "output_type": "stream",
          "name": "stdout",
          "text": [
            " Complement : TACGGGGTTGATTTATGATGGCATACCGGGTGGTATTAATGGGGGTATGAGGAATGTGATAAGGAGTAGTGGGTTGATTTTTATAATTTGTGTTTGATGGTGGATGGAGGGAGTGGTTTCGGGTATTTTTATTTTTTAATATTGTTTGGGACTCTTGGTTTTACTTGCTTTTAGACAAGCGAAGTAAGTAACGGGGGTGTTAGGATC \n",
            "\n",
            "Reverse Complement :  CTAGGATTGTGGGGGCAATGAATGAAGCGAACAGATTTTCGTTCATTTTGGTTCTCAGGGTTTGTTATAATTTTTTATTTTTATGGGCTTTGGTGAGGGAGGTAGGTGGTAGTTTGTGTTTAATATTTTTAGTTGGGTGATGAGGAATAGTGTAAGGAGTATGGGGGTAATTATGGTGGGCCATACGGTAGTATTTAGTTGGGGCAT \n"
          ]
        }
      ]
    },
    {
      "cell_type": "code",
      "source": [
        "from Bio.SeqUtils import GC\n",
        "print(\"GC% :\\t\" + str(GC(my_seq)))"
      ],
      "metadata": {
        "colab": {
          "base_uri": "https://localhost:8080/"
        },
        "id": "V-COgXWgBHCR",
        "outputId": "0c6e7cda-d37e-49a7-a6f3-f9023a89824b"
      },
      "execution_count": 16,
      "outputs": [
        {
          "output_type": "stream",
          "name": "stdout",
          "text": [
            "GC% :\t39.61352657004831\n"
          ]
        },
        {
          "output_type": "stream",
          "name": "stderr",
          "text": [
            "/usr/local/lib/python3.8/dist-packages/Bio/SeqUtils/__init__.py:144: BiopythonDeprecationWarning: GC is deprecated; please use gc_fraction instead.\n",
            "  warnings.warn(\n"
          ]
        }
      ]
    },
    {
      "cell_type": "code",
      "source": [
        "humandata[\"length\"] = humandata.sequence.apply(lambda x : len(x))  # finding the length of each DNA Sequence"
      ],
      "metadata": {
        "id": "yiVFPzUlBIc4"
      },
      "execution_count": 17,
      "outputs": []
    },
    {
      "cell_type": "code",
      "source": [
        "plt.figure(figsize=(8,8));\n",
        "plt.hist(humandata[\"length\"],bins=50)\n",
        "plt.title(\"Distribution of Length of DNA Sequence\");"
      ],
      "metadata": {
        "colab": {
          "base_uri": "https://localhost:8080/",
          "height": 501
        },
        "id": "EVGyXTfvBLEk",
        "outputId": "7ea9cfa5-7a26-4ca7-8092-eb8fe85db130"
      },
      "execution_count": 18,
      "outputs": [
        {
          "output_type": "display_data",
          "data": {
            "text/plain": [
              "<Figure size 576x576 with 1 Axes>"
            ],
            "image/png": "[encoded data removed]"
          },
          "metadata": {}
        }
      ]
    },
    {
      "cell_type": "code",
      "source": [
        "def getKmers(sequence, size=6):\n",
        "    return [sequence[x:x+size].upper() for x in range(len(sequence) - size + 1)]\n"
      ],
      "metadata": {
        "id": "tLDooi-aBR_W"
      },
      "execution_count": 19,
      "outputs": []
    },
    {
      "cell_type": "code",
      "source": [
        "#Now we can convert our training data sequences into short overlapping k-mers of legth 6.\n",
        "\n",
        "humandata['words'] = humandata.apply(lambda x: getKmers(x['sequence']), axis=1)"
      ],
      "metadata": {
        "id": "Hv6aTrPZBU9I"
      },
      "execution_count": 20,
      "outputs": []
    },
    {
      "cell_type": "code",
      "source": [
        "humandata.head()"
      ],
      "metadata": {
        "colab": {
          "base_uri": "https://localhost:8080/",
          "height": 206
        },
        "id": "UsVbhib7BZZG",
        "outputId": "3396a4e8-7950-4676-b977-f029edf5142a"
      },
      "execution_count": 21,
      "outputs": [
        {
          "output_type": "execute_result",
          "data": {
            "text/plain": [
              "                                            sequence  class  length  \\\n",
              "0  ATGCCCCAACTAAATACTACCGTATGGCCCACCATAATTACCCCCA...      4     207   \n",
              "1  ATGAACGAAAATCTGTTCGCTTCATTCATTGCCCCCACAATCCTAG...      4     681   \n",
              "2  ATGTGTGGCATTTGGGCGCTGTTTGGCAGTGATGATTGCCTTTCTG...      3    1686   \n",
              "3  ATGTGTGGCATTTGGGCGCTGTTTGGCAGTGATGATTGCCTTTCTG...      3    1206   \n",
              "4  ATGCAACAGCATTTTGAATTTGAATACCAGACCAAAGTGGATGGTG...      3    1437   \n",
              "\n",
              "                                               words  \n",
              "0  [ATGCCC, TGCCCC, GCCCCA, CCCCAA, CCCAAC, CCAAC...  \n",
              "1  [ATGAAC, TGAACG, GAACGA, AACGAA, ACGAAA, CGAAA...  \n",
              "2  [ATGTGT, TGTGTG, GTGTGG, TGTGGC, GTGGCA, TGGCA...  \n",
              "3  [ATGTGT, TGTGTG, GTGTGG, TGTGGC, GTGGCA, TGGCA...  \n",
              "4  [ATGCAA, TGCAAC, GCAACA, CAACAG, AACAGC, ACAGC...  "
            ],
            "text/html": [
              "\n",
              "  <div id=\"df-98aa74f3-074c-4e9f-8c92-2d18e7d81394\">\n",
              "    <div class=\"colab-df-container\">\n",
              "      <div>\n",
              "<style scoped>\n",
              "    .dataframe tbody tr th:only-of-type {\n",
              "        vertical-align: middle;\n",
              "    }\n",
              "\n",
              "    .dataframe tbody tr th {\n",
              "        vertical-align: top;\n",
              "    }\n",
              "\n",
              "    .dataframe thead th {\n",
              "        text-align: right;\n",
              "    }\n",
              "</style>\n",
              "<table border=\"1\" class=\"dataframe\">\n",
              "  <thead>\n",
              "    <tr style=\"text-align: right;\">\n",
              "      <th></th>\n",
              "      <th>sequence</th>\n",
              "      <th>class</th>\n",
              "      <th>length</th>\n",
              "      <th>words</th>\n",
              "    </tr>\n",
              "  </thead>\n",
              "  <tbody>\n",
              "    <tr>\n",
              "      <th>0</th>\n",
              "      <td>ATGCCCCAACTAAATACTACCGTATGGCCCACCATAATTACCCCCA...</td>\n",
              "      <td>4</td>\n",
              "      <td>207</td>\n",
              "      <td>[ATGCCC, TGCCCC, GCCCCA, CCCCAA, CCCAAC, CCAAC...</td>\n",
              "    </tr>\n",
              "    <tr>\n",
              "      <th>1</th>\n",
              "      <td>ATGAACGAAAATCTGTTCGCTTCATTCATTGCCCCCACAATCCTAG...</td>\n",
              "      <td>4</td>\n",
              "      <td>681</td>\n",
              "      <td>[ATGAAC, TGAACG, GAACGA, AACGAA, ACGAAA, CGAAA...</td>\n",
              "    </tr>\n",
              "    <tr>\n",
              "      <th>2</th>\n",
              "      <td>ATGTGTGGCATTTGGGCGCTGTTTGGCAGTGATGATTGCCTTTCTG...</td>\n",
              "      <td>3</td>\n",
              "      <td>1686</td>\n",
              "      <td>[ATGTGT, TGTGTG, GTGTGG, TGTGGC, GTGGCA, TGGCA...</td>\n",
              "    </tr>\n",
              "    <tr>\n",
              "      <th>3</th>\n",
              "      <td>ATGTGTGGCATTTGGGCGCTGTTTGGCAGTGATGATTGCCTTTCTG...</td>\n",
              "      <td>3</td>\n",
              "      <td>1206</td>\n",
              "      <td>[ATGTGT, TGTGTG, GTGTGG, TGTGGC, GTGGCA, TGGCA...</td>\n",
              "    </tr>\n",
              "    <tr>\n",
              "      <th>4</th>\n",
              "      <td>ATGCAACAGCATTTTGAATTTGAATACCAGACCAAAGTGGATGGTG...</td>\n",
              "      <td>3</td>\n",
              "      <td>1437</td>\n",
              "      <td>[ATGCAA, TGCAAC, GCAACA, CAACAG, AACAGC, ACAGC...</td>\n",
              "    </tr>\n",
              "  </tbody>\n",
              "</table>\n",
              "</div>\n",
              "      <button class=\"colab-df-convert\" onclick=\"convertToInteractive('df-98aa74f3-074c-4e9f-8c92-2d18e7d81394')\"\n",
              "              title=\"Convert this dataframe to an interactive table.\"\n",
              "              style=\"display:none;\">\n",
              "        \n",
              "  <svg xmlns=\"http://www.w3.org/2000/svg\" height=\"24px\"viewBox=\"0 0 24 24\"\n",
              "       width=\"24px\">\n",
              "    <path d=\"M0 0h24v24H0V0z\" fill=\"none\"/>\n",
              "    <path d=\"M18.56 5.44l.94 2.06.94-2.06 2.06-.94-2.06-.94-.94-2.06-.94 2.06-2.06.94zm-11 1L8.5 8.5l.94-2.06 2.06-.94-2.06-.94L8.5 2.5l-.94 2.06-2.06.94zm10 10l.94 2.06.94-2.06 2.06-.94-2.06-.94-.94-2.06-.94 2.06-2.06.94z\"/><path d=\"M17.41 7.96l-1.37-1.37c-.4-.4-.92-.59-1.43-.59-.52 0-1.04.2-1.43.59L10.3 9.45l-7.72 7.72c-.78.78-.78 2.05 0 2.83L4 21.41c.39.39.9.59 1.41.59.51 0 1.02-.2 1.41-.59l7.78-7.78 2.81-2.81c.8-.78.8-2.07 0-2.86zM5.41 20L4 18.59l7.72-7.72 1.47 1.35L5.41 20z\"/>\n",
              "  </svg>\n",
              "      </button>\n",
              "      \n",
              "  <style>\n",
              "    .colab-df-container {\n",
              "      display:flex;\n",
              "      flex-wrap:wrap;\n",
              "      gap: 12px;\n",
              "    }\n",
              "\n",
              "    .colab-df-convert {\n",
              "      background-color: #E8F0FE;\n",
              "      border: none;\n",
              "      border-radius: 50%;\n",
              "      cursor: pointer;\n",
              "      display: none;\n",
              "      fill: #1967D2;\n",
              "      height: 32px;\n",
              "      padding: 0 0 0 0;\n",
              "      width: 32px;\n",
              "    }\n",
              "\n",
              "    .colab-df-convert:hover {\n",
              "      background-color: #E2EBFA;\n",
              "      box-shadow: 0px 1px 2px rgba(60, 64, 67, 0.3), 0px 1px 3px 1px rgba(60, 64, 67, 0.15);\n",
              "      fill: #174EA6;\n",
              "    }\n",
              "\n",
              "    [theme=dark] .colab-df-convert {\n",
              "      background-color: #3B4455;\n",
              "      fill: #D2E3FC;\n",
              "    }\n",
              "\n",
              "    [theme=dark] .colab-df-convert:hover {\n",
              "      background-color: #434B5C;\n",
              "      box-shadow: 0px 1px 3px 1px rgba(0, 0, 0, 0.15);\n",
              "      filter: drop-shadow(0px 1px 2px rgba(0, 0, 0, 0.3));\n",
              "      fill: #FFFFFF;\n",
              "    }\n",
              "  </style>\n",
              "\n",
              "      <script>\n",
              "        const buttonEl =\n",
              "          document.querySelector('#df-98aa74f3-074c-4e9f-8c92-2d18e7d81394 button.colab-df-convert');\n",
              "        buttonEl.style.display =\n",
              "          google.colab.kernel.accessAllowed ? 'block' : 'none';\n",
              "\n",
              "        async function convertToInteractive(key) {\n",
              "          const element = document.querySelector('#df-98aa74f3-074c-4e9f-8c92-2d18e7d81394');\n",
              "          const dataTable =\n",
              "            await google.colab.kernel.invokeFunction('convertToInteractive',\n",
              "                                                     [key], {});\n",
              "          if (!dataTable) return;\n",
              "\n",
              "          const docLinkHtml = 'Like what you see? Visit the ' +\n",
              "            '<a target=\"_blank\" href=https://colab.research.google.com/notebooks/data_table.ipynb>data table notebook</a>'\n",
              "            + ' to learn more about interactive tables.';\n",
              "          element.innerHTML = '';\n",
              "          dataTable['output_type'] = 'display_data';\n",
              "          await google.colab.output.renderOutput(dataTable, element);\n",
              "          const docLink = document.createElement('div');\n",
              "          docLink.innerHTML = docLinkHtml;\n",
              "          element.appendChild(docLink);\n",
              "        }\n",
              "      </script>\n",
              "    </div>\n",
              "  </div>\n",
              "  "
            ]
          },
          "metadata": {},
          "execution_count": 21
        }
      ]
    },
    {
      "cell_type": "code",
      "source": [
        "#We are now going to Convert the words into string and then apply Count Vectorizer\n",
        "\n",
        "humandata[\"in_string\"] =humandata[\"words\"].apply(lambda x:  ' '.join(x))"
      ],
      "metadata": {
        "id": "rrgbXX0UBcTn"
      },
      "execution_count": 22,
      "outputs": []
    },
    {
      "cell_type": "code",
      "source": [
        "humandata[[\"words\",\"in_string\"]]\n"
      ],
      "metadata": {
        "colab": {
          "base_uri": "https://localhost:8080/",
          "height": 423
        },
        "id": "X3pdLPfNBdm-",
        "outputId": "df5455d6-6781-4cfb-b366-24b7d2697761"
      },
      "execution_count": 23,
      "outputs": [
        {
          "output_type": "execute_result",
          "data": {
            "text/plain": [
              "                                                  words  \\\n",
              "0     [ATGCCC, TGCCCC, GCCCCA, CCCCAA, CCCAAC, CCAAC...   \n",
              "1     [ATGAAC, TGAACG, GAACGA, AACGAA, ACGAAA, CGAAA...   \n",
              "2     [ATGTGT, TGTGTG, GTGTGG, TGTGGC, GTGGCA, TGGCA...   \n",
              "3     [ATGTGT, TGTGTG, GTGTGG, TGTGGC, GTGGCA, TGGCA...   \n",
              "4     [ATGCAA, TGCAAC, GCAACA, CAACAG, AACAGC, ACAGC...   \n",
              "...                                                 ...   \n",
              "4375  [ATGGAA, TGGAAG, GGAAGA, GAAGAT, AAGATT, AGATT...   \n",
              "4376  [ATGCAG, TGCAGT, GCAGTC, CAGTCC, AGTCCT, GTCCT...   \n",
              "4377  [ATGCAG, TGCAGT, GCAGTC, CAGTCC, AGTCCT, GTCCT...   \n",
              "4378  [ATGGGG, TGGGGC, GGGGCA, GGGCAC, GGCACC, GCACC...   \n",
              "4379  [ATGCAG, TGCAGT, GCAGTC, CAGTCC, AGTCCT, GTCCT...   \n",
              "\n",
              "                                              in_string  \n",
              "0     ATGCCC TGCCCC GCCCCA CCCCAA CCCAAC CCAACT CAAC...  \n",
              "1     ATGAAC TGAACG GAACGA AACGAA ACGAAA CGAAAA GAAA...  \n",
              "2     ATGTGT TGTGTG GTGTGG TGTGGC GTGGCA TGGCAT GGCA...  \n",
              "3     ATGTGT TGTGTG GTGTGG TGTGGC GTGGCA TGGCAT GGCA...  \n",
              "4     ATGCAA TGCAAC GCAACA CAACAG AACAGC ACAGCA CAGC...  \n",
              "...                                                 ...  \n",
              "4375  ATGGAA TGGAAG GGAAGA GAAGAT AAGATT AGATTT GATT...  \n",
              "4376  ATGCAG TGCAGT GCAGTC CAGTCC AGTCCT GTCCTT TCCT...  \n",
              "4377  ATGCAG TGCAGT GCAGTC CAGTCC AGTCCT GTCCTT TCCT...  \n",
              "4378  ATGGGG TGGGGC GGGGCA GGGCAC GGCACC GCACCT CACC...  \n",
              "4379  ATGCAG TGCAGT GCAGTC CAGTCC AGTCCT GTCCTT TCCT...  \n",
              "\n",
              "[4380 rows x 2 columns]"
            ],
            "text/html": [
              "\n",
              "  <div id=\"df-1f09d306-8285-42d1-9aa0-0bc42c57beb6\">\n",
              "    <div class=\"colab-df-container\">\n",
              "      <div>\n",
              "<style scoped>\n",
              "    .dataframe tbody tr th:only-of-type {\n",
              "        vertical-align: middle;\n",
              "    }\n",
              "\n",
              "    .dataframe tbody tr th {\n",
              "        vertical-align: top;\n",
              "    }\n",
              "\n",
              "    .dataframe thead th {\n",
              "        text-align: right;\n",
              "    }\n",
              "</style>\n",
              "<table border=\"1\" class=\"dataframe\">\n",
              "  <thead>\n",
              "    <tr style=\"text-align: right;\">\n",
              "      <th></th>\n",
              "      <th>words</th>\n",
              "      <th>in_string</th>\n",
              "    </tr>\n",
              "  </thead>\n",
              "  <tbody>\n",
              "    <tr>\n",
              "      <th>0</th>\n",
              "      <td>[ATGCCC, TGCCCC, GCCCCA, CCCCAA, CCCAAC, CCAAC...</td>\n",
              "      <td>ATGCCC TGCCCC GCCCCA CCCCAA CCCAAC CCAACT CAAC...</td>\n",
              "    </tr>\n",
              "    <tr>\n",
              "      <th>1</th>\n",
              "      <td>[ATGAAC, TGAACG, GAACGA, AACGAA, ACGAAA, CGAAA...</td>\n",
              "      <td>ATGAAC TGAACG GAACGA AACGAA ACGAAA CGAAAA GAAA...</td>\n",
              "    </tr>\n",
              "    <tr>\n",
              "      <th>2</th>\n",
              "      <td>[ATGTGT, TGTGTG, GTGTGG, TGTGGC, GTGGCA, TGGCA...</td>\n",
              "      <td>ATGTGT TGTGTG GTGTGG TGTGGC GTGGCA TGGCAT GGCA...</td>\n",
              "    </tr>\n",
              "    <tr>\n",
              "      <th>3</th>\n",
              "      <td>[ATGTGT, TGTGTG, GTGTGG, TGTGGC, GTGGCA, TGGCA...</td>\n",
              "      <td>ATGTGT TGTGTG GTGTGG TGTGGC GTGGCA TGGCAT GGCA...</td>\n",
              "    </tr>\n",
              "    <tr>\n",
              "      <th>4</th>\n",
              "      <td>[ATGCAA, TGCAAC, GCAACA, CAACAG, AACAGC, ACAGC...</td>\n",
              "      <td>ATGCAA TGCAAC GCAACA CAACAG AACAGC ACAGCA CAGC...</td>\n",
              "    </tr>\n",
              "    <tr>\n",
              "      <th>...</th>\n",
              "      <td>...</td>\n",
              "      <td>...</td>\n",
              "    </tr>\n",
              "    <tr>\n",
              "      <th>4375</th>\n",
              "      <td>[ATGGAA, TGGAAG, GGAAGA, GAAGAT, AAGATT, AGATT...</td>\n",
              "      <td>ATGGAA TGGAAG GGAAGA GAAGAT AAGATT AGATTT GATT...</td>\n",
              "    </tr>\n",
              "    <tr>\n",
              "      <th>4376</th>\n",
              "      <td>[ATGCAG, TGCAGT, GCAGTC, CAGTCC, AGTCCT, GTCCT...</td>\n",
              "      <td>ATGCAG TGCAGT GCAGTC CAGTCC AGTCCT GTCCTT TCCT...</td>\n",
              "    </tr>\n",
              "    <tr>\n",
              "      <th>4377</th>\n",
              "      <td>[ATGCAG, TGCAGT, GCAGTC, CAGTCC, AGTCCT, GTCCT...</td>\n",
              "      <td>ATGCAG TGCAGT GCAGTC CAGTCC AGTCCT GTCCTT TCCT...</td>\n",
              "    </tr>\n",
              "    <tr>\n",
              "      <th>4378</th>\n",
              "      <td>[ATGGGG, TGGGGC, GGGGCA, GGGCAC, GGCACC, GCACC...</td>\n",
              "      <td>ATGGGG TGGGGC GGGGCA GGGCAC GGCACC GCACCT CACC...</td>\n",
              "    </tr>\n",
              "    <tr>\n",
              "      <th>4379</th>\n",
              "      <td>[ATGCAG, TGCAGT, GCAGTC, CAGTCC, AGTCCT, GTCCT...</td>\n",
              "      <td>ATGCAG TGCAGT GCAGTC CAGTCC AGTCCT GTCCTT TCCT...</td>\n",
              "    </tr>\n",
              "  </tbody>\n",
              "</table>\n",
              "<p>4380 rows × 2 columns</p>\n",
              "</div>\n",
              "      <button class=\"colab-df-convert\" onclick=\"convertToInteractive('df-1f09d306-8285-42d1-9aa0-0bc42c57beb6')\"\n",
              "              title=\"Convert this dataframe to an interactive table.\"\n",
              "              style=\"display:none;\">\n",
              "        \n",
              "  <svg xmlns=\"http://www.w3.org/2000/svg\" height=\"24px\"viewBox=\"0 0 24 24\"\n",
              "       width=\"24px\">\n",
              "    <path d=\"M0 0h24v24H0V0z\" fill=\"none\"/>\n",
              "    <path d=\"M18.56 5.44l.94 2.06.94-2.06 2.06-.94-2.06-.94-.94-2.06-.94 2.06-2.06.94zm-11 1L8.5 8.5l.94-2.06 2.06-.94-2.06-.94L8.5 2.5l-.94 2.06-2.06.94zm10 10l.94 2.06.94-2.06 2.06-.94-2.06-.94-.94-2.06-.94 2.06-2.06.94z\"/><path d=\"M17.41 7.96l-1.37-1.37c-.4-.4-.92-.59-1.43-.59-.52 0-1.04.2-1.43.59L10.3 9.45l-7.72 7.72c-.78.78-.78 2.05 0 2.83L4 21.41c.39.39.9.59 1.41.59.51 0 1.02-.2 1.41-.59l7.78-7.78 2.81-2.81c.8-.78.8-2.07 0-2.86zM5.41 20L4 18.59l7.72-7.72 1.47 1.35L5.41 20z\"/>\n",
              "  </svg>\n",
              "      </button>\n",
              "      \n",
              "  <style>\n",
              "    .colab-df-container {\n",
              "      display:flex;\n",
              "      flex-wrap:wrap;\n",
              "      gap: 12px;\n",
              "    }\n",
              "\n",
              "    .colab-df-convert {\n",
              "      background-color: #E8F0FE;\n",
              "      border: none;\n",
              "      border-radius: 50%;\n",
              "      cursor: pointer;\n",
              "      display: none;\n",
              "      fill: #1967D2;\n",
              "      height: 32px;\n",
              "      padding: 0 0 0 0;\n",
              "      width: 32px;\n",
              "    }\n",
              "\n",
              "    .colab-df-convert:hover {\n",
              "      background-color: #E2EBFA;\n",
              "      box-shadow: 0px 1px 2px rgba(60, 64, 67, 0.3), 0px 1px 3px 1px rgba(60, 64, 67, 0.15);\n",
              "      fill: #174EA6;\n",
              "    }\n",
              "\n",
              "    [theme=dark] .colab-df-convert {\n",
              "      background-color: #3B4455;\n",
              "      fill: #D2E3FC;\n",
              "    }\n",
              "\n",
              "    [theme=dark] .colab-df-convert:hover {\n",
              "      background-color: #434B5C;\n",
              "      box-shadow: 0px 1px 3px 1px rgba(0, 0, 0, 0.15);\n",
              "      filter: drop-shadow(0px 1px 2px rgba(0, 0, 0, 0.3));\n",
              "      fill: #FFFFFF;\n",
              "    }\n",
              "  </style>\n",
              "\n",
              "      <script>\n",
              "        const buttonEl =\n",
              "          document.querySelector('#df-1f09d306-8285-42d1-9aa0-0bc42c57beb6 button.colab-df-convert');\n",
              "        buttonEl.style.display =\n",
              "          google.colab.kernel.accessAllowed ? 'block' : 'none';\n",
              "\n",
              "        async function convertToInteractive(key) {\n",
              "          const element = document.querySelector('#df-1f09d306-8285-42d1-9aa0-0bc42c57beb6');\n",
              "          const dataTable =\n",
              "            await google.colab.kernel.invokeFunction('convertToInteractive',\n",
              "                                                     [key], {});\n",
              "          if (!dataTable) return;\n",
              "\n",
              "          const docLinkHtml = 'Like what you see? Visit the ' +\n",
              "            '<a target=\"_blank\" href=https://colab.research.google.com/notebooks/data_table.ipynb>data table notebook</a>'\n",
              "            + ' to learn more about interactive tables.';\n",
              "          element.innerHTML = '';\n",
              "          dataTable['output_type'] = 'display_data';\n",
              "          await google.colab.output.renderOutput(dataTable, element);\n",
              "          const docLink = document.createElement('div');\n",
              "          docLink.innerHTML = docLinkHtml;\n",
              "          element.appendChild(docLink);\n",
              "        }\n",
              "      </script>\n",
              "    </div>\n",
              "  </div>\n",
              "  "
            ]
          },
          "metadata": {},
          "execution_count": 23
        }
      ]
    },
    {
      "cell_type": "code",
      "source": [
        "y=humandata.loc[:,'class'].values"
      ],
      "metadata": {
        "id": "lC86XgOQBiye"
      },
      "execution_count": 24,
      "outputs": []
    },
    {
      "cell_type": "code",
      "source": [
        "from sklearn.feature_extraction.text import CountVectorizer\n",
        "cv = CountVectorizer(ngram_range=(4,4))\n",
        "X = cv.fit_transform(humandata[\"in_string\"])"
      ],
      "metadata": {
        "id": "awrW4PEIBma-"
      },
      "execution_count": 25,
      "outputs": []
    },
    {
      "cell_type": "code",
      "source": [
        "print(X.shape)\n"
      ],
      "metadata": {
        "colab": {
          "base_uri": "https://localhost:8080/"
        },
        "id": "IAFgqac1BoJP",
        "outputId": "7f7ec2e2-fad3-455c-9c23-af554c4fb41e"
      },
      "execution_count": 26,
      "outputs": [
        {
          "output_type": "stream",
          "name": "stdout",
          "text": [
            "(4380, 232414)\n"
          ]
        }
      ]
    },
    {
      "cell_type": "code",
      "source": [
        "#This is the Count_Vectorizer's Vocabulary\n",
        "i=0\n",
        "for key,value in cv.vocabulary_.items():\n",
        "    print(f\"{key} : {value}\")\n",
        "    i+=1\n",
        "    if i>10:break"
      ],
      "metadata": {
        "colab": {
          "base_uri": "https://localhost:8080/"
        },
        "id": "HUmZ59FNBttF",
        "outputId": "8fb0354d-aead-4c38-ea29-25930047b008"
      },
      "execution_count": 27,
      "outputs": [
        {
          "output_type": "stream",
          "name": "stdout",
          "text": [
            "atgccc tgcccc gcccca ccccaa : 52803\n",
            "tgcccc gcccca ccccaa cccaac : 207969\n",
            "gcccca ccccaa cccaac ccaact : 136621\n",
            "ccccaa cccaac ccaact caacta : 79202\n",
            "cccaac ccaact caacta aactaa : 78295\n",
            "ccaact caacta aactaa actaaa : 74681\n",
            "caacta aactaa actaaa ctaaat : 60650\n",
            "aactaa actaaa ctaaat taaata : 6563\n",
            "actaaa ctaaat taaata aaatac : 25724\n",
            "ctaaat taaata aaatac aatact : 101750\n",
            "taaata aaatac aatact atacta : 176196\n"
          ]
        }
      ]
    },
    {
      "cell_type": "code",
      "source": [
        "from sklearn.model_selection import StratifiedKFold,cross_val_score,cross_val_predict\n",
        "from sklearn.tree import DecisionTreeClassifier\n",
        "from sklearn.svm import SVC\n",
        "from sklearn.ensemble import RandomForestClassifier\n",
        "from sklearn.naive_bayes import MultinomialNB\n",
        "from sklearn.metrics import *"
      ],
      "metadata": {
        "id": "lOhaWc2wBw0G"
      },
      "execution_count": 28,
      "outputs": []
    },
    {
      "cell_type": "code",
      "source": [
        "def get_metrics(y_test, y_predicted):\n",
        "    accuracy = accuracy_score(y_test, y_predicted)\n",
        "    precision = precision_score(y_test, y_predicted, average='weighted')\n",
        "    recall = recall_score(y_test, y_predicted, average='weighted')\n",
        "    f1 = f1_score(y_test, y_predicted, average='weighted')\n",
        "    return accuracy, precision, recall, f1"
      ],
      "metadata": {
        "id": "-vgxzGjXB_M0"
      },
      "execution_count": 29,
      "outputs": []
    },
    {
      "cell_type": "code",
      "source": [
        "print(\"Decision Classifier :\")\n",
        "for i,(train_index,val_index)  in enumerate(StratifiedKFold(n_splits=5,shuffle=True,random_state=42).split(X,y)):\n",
        "    dt =DecisionTreeClassifier()\n",
        "    dt.fit(X[train_index],y[train_index])\n",
        "    pred=dt.predict(X[val_index])\n",
        "    accuracy, precision, recall, f1 = get_metrics(y[val_index], pred)\n",
        "    print(str(i)+\" Iteration : Accuracy = %.5f     F1_Score = %.5f\" % (accuracy, f1))"
      ],
      "metadata": {
        "colab": {
          "base_uri": "https://localhost:8080/"
        },
        "id": "aODgpnAlCCRD",
        "outputId": "0ddacf0e-31b0-4edb-a56e-39967b9410e0"
      },
      "execution_count": 30,
      "outputs": [
        {
          "output_type": "stream",
          "name": "stdout",
          "text": [
            "Decision Classifier :\n",
            "0 Iteration : Accuracy = 0.80822     F1_Score = 0.81252\n",
            "1 Iteration : Accuracy = 0.81507     F1_Score = 0.81769\n",
            "2 Iteration : Accuracy = 0.80023     F1_Score = 0.80566\n",
            "3 Iteration : Accuracy = 0.81507     F1_Score = 0.82070\n",
            "4 Iteration : Accuracy = 0.80365     F1_Score = 0.80744\n"
          ]
        }
      ]
    },
    {
      "cell_type": "code",
      "source": [
        "## Used Grid Search to find the best Hyperparameters. \n",
        "print(\"Naive Bayes Classifier :\")\n",
        "for i,(train_index,val_index)  in enumerate(StratifiedKFold(n_splits=5,shuffle=True,random_state=42).split(X,y)):\n",
        "    classifier = MultinomialNB(alpha=0.1)\n",
        "    classifier.fit(X[train_index],y[train_index])\n",
        "    pred=classifier.predict(X[val_index])\n",
        "    accuracy, precision, recall, f1 = get_metrics(y[val_index], pred)\n",
        "    print(str(i)+\" Iteration : Accuracy = %.5f    F1_Score = %.5f\" % (accuracy, f1))"
      ],
      "metadata": {
        "colab": {
          "base_uri": "https://localhost:8080/"
        },
        "id": "Hl0wqph7CkWm",
        "outputId": "a4074d7e-5c56-4819-c1d1-54a2abfcae88"
      },
      "execution_count": 31,
      "outputs": [
        {
          "output_type": "stream",
          "name": "stdout",
          "text": [
            "Naive Bayes Classifier :\n",
            "0 Iteration : Accuracy = 0.98059    F1_Score = 0.98061\n",
            "1 Iteration : Accuracy = 0.98059    F1_Score = 0.98066\n",
            "2 Iteration : Accuracy = 0.97603    F1_Score = 0.97606\n",
            "3 Iteration : Accuracy = 0.97717    F1_Score = 0.97722\n",
            "4 Iteration : Accuracy = 0.97717    F1_Score = 0.97715\n"
          ]
        }
      ]
    },
    {
      "cell_type": "code",
      "source": [
        "#scores ={\"Naive Bayes\":98.059  ,\"Random Forest\":91.4 ,\"Decision Tree\": 81.5}\n",
        "plt.figure(figsize=(10,5))\n",
        "scores=[\"Naive Bayes\",\"Random Forest\",\"Decision Tree\"]\n",
        "accscore=[98.059,91.4,81.5]\n",
        "f1score=[98.061,91.5,81.1]\n",
        "w=0.3\n",
        "bar1=np.arange(len(scores))\n",
        "bar2=[i+w for i in bar1]\n",
        "\n",
        "plt.bar(bar1,accscore,w,label=\"accuracy\")\n",
        "plt.bar(bar2,f1score,w,label=\"f1score\")\n",
        "plt.xticks(bar1, scores)\n",
        "plt.legend()\n",
        "plt.title(\"Comparision Between Models\")\n",
        "plt.show()"
      ],
      "metadata": {
        "colab": {
          "base_uri": "https://localhost:8080/",
          "height": 338
        },
        "id": "omXv7B3ZCugI",
        "outputId": "b87eb048-8e11-4676-a95a-113ac5b4feac"
      },
      "execution_count": 32,
      "outputs": [
        {
          "output_type": "display_data",
          "data": {
            "text/plain": [
              "<Figure size 720x360 with 1 Axes>"
            ],
            "image/png": "[encoded data removed]"
          },
          "metadata": {}
        }
      ]
    },
    {
      "cell_type": "code",
      "source": [
        "from sklearn.model_selection import train_test_split\n",
        "X_train, X_test, y_train, y_test = train_test_split(X, \n",
        "                                                    y, \n",
        "                                                    test_size = 0.20, \n",
        "                                                    random_state=42)\n",
        "nb_ =MultinomialNB(alpha=0.01)\n",
        "nb_.fit(X_train, y_train)\n",
        "\n",
        "y_pred = nb_.predict(X_test)\n",
        "print(pd.crosstab(pd.Series(y_test, name='Actual'), pd.Series(y_pred, name='Predicted')))"
      ],
      "metadata": {
        "colab": {
          "base_uri": "https://localhost:8080/"
        },
        "id": "MAqlTO5tCzRX",
        "outputId": "937cb70e-86bd-41f2-82d3-c88d9ad1183f"
      },
      "execution_count": 33,
      "outputs": [
        {
          "output_type": "stream",
          "name": "stdout",
          "text": [
            "Predicted   0    1   2    3    4   5    6\n",
            "Actual                                   \n",
            "0          99    0   0    0    0   0    3\n",
            "1           0  100   0    0    0   0    6\n",
            "2           0    0  78    0    0   0    0\n",
            "3           0    0   0  122    0   0    3\n",
            "4           0    0   0    0  143   0    6\n",
            "5           0    0   0    0    0  51    0\n",
            "6           0    0   0    0    0   0  265\n"
          ]
        }
      ]
    },
    {
      "cell_type": "code",
      "source": [
        "import pickle"
      ],
      "metadata": {
        "id": "jKjWzELuC1A1"
      },
      "execution_count": 34,
      "outputs": []
    },
    {
      "cell_type": "code",
      "source": [
        "# Saving the model for future use.\n",
        "filename = 'finalized_model.sav'\n",
        "pickle.dump(nb_, open(filename, 'wb'))"
      ],
      "metadata": {
        "id": "N-VOzflnC5kg"
      },
      "execution_count": 35,
      "outputs": []
    },
    {
      "cell_type": "code",
      "source": [
        "plt.figure(figsize=(7,6))\n",
        "sns.heatmap(pd.crosstab(pd.Series(y_test, name='Actual'), pd.Series(y_pred, name='Predicted')),cmap=\"YlGnBu\",annot=True,fmt='d')"
      ],
      "metadata": {
        "colab": {
          "base_uri": "https://localhost:8080/",
          "height": 411
        },
        "id": "znBppKBEC6uv",
        "outputId": "b92e0096-db10-4012-c9cc-a1f377477c66"
      },
      "execution_count": 36,
      "outputs": [
        {
          "output_type": "execute_result",
          "data": {
            "text/plain": [
              "<AxesSubplot:xlabel='Predicted', ylabel='Actual'>"
            ]
          },
          "metadata": {},
          "execution_count": 36
        },
        {
          "output_type": "display_data",
          "data": {
            "text/plain": [
              "<Figure size 504x432 with 2 Axes>"
            ],
            "image/png": "[encoded data removed]"
          },
          "metadata": {}
        }
      ]
    },
    {
      "cell_type": "code",
      "source": [
        "from sklearn.feature_extraction.text import TfidfVectorizer\n",
        "tf = TfidfVectorizer(ngram_range=(4,4))\n",
        "X_tf = tf.fit_transform(humandata[\"in_string\"])"
      ],
      "metadata": {
        "id": "GSnWrqZPC--m"
      },
      "execution_count": 37,
      "outputs": []
    },
    {
      "cell_type": "code",
      "source": [
        "i=0\n",
        "for key,value in tf.vocabulary_.items():\n",
        "    print(f\"{key} : {value}\")\n",
        "    i+=1\n",
        "    if i>10:break"
      ],
      "metadata": {
        "colab": {
          "base_uri": "https://localhost:8080/"
        },
        "id": "yQiuEANMDEUb",
        "outputId": "ee64895e-1284-4052-f019-15a0d98e7001"
      },
      "execution_count": 38,
      "outputs": [
        {
          "output_type": "stream",
          "name": "stdout",
          "text": [
            "atgccc tgcccc gcccca ccccaa : 52803\n",
            "tgcccc gcccca ccccaa cccaac : 207969\n",
            "gcccca ccccaa cccaac ccaact : 136621\n",
            "ccccaa cccaac ccaact caacta : 79202\n",
            "cccaac ccaact caacta aactaa : 78295\n",
            "ccaact caacta aactaa actaaa : 74681\n",
            "caacta aactaa actaaa ctaaat : 60650\n",
            "aactaa actaaa ctaaat taaata : 6563\n",
            "actaaa ctaaat taaata aaatac : 25724\n",
            "ctaaat taaata aaatac aatact : 101750\n",
            "taaata aaatac aatact atacta : 176196\n"
          ]
        }
      ]
    },
    {
      "cell_type": "code",
      "source": [
        "print(\"Naive Bayes Classifier for TFidf:\")\n",
        "for i,(train_index,val_index)  in enumerate(StratifiedKFold(n_splits=5,shuffle=True,random_state=42).split(X_tf,y)):\n",
        "    classifier = MultinomialNB(alpha=0.1)\n",
        "    classifier.fit(X[train_index],y[train_index])\n",
        "    pred=classifier.predict(X[val_index])\n",
        "    accuracy, precision, recall, f1 = get_metrics(y[val_index], pred)\n",
        "    print(str(i)+\" Iteration : Accuracy = %.5f    F1_Score = %.5f\" % (accuracy, f1))"
      ],
      "metadata": {
        "colab": {
          "base_uri": "https://localhost:8080/"
        },
        "id": "IXfQpsTRDHW3",
        "outputId": "4e8287ce-2bdc-4afb-e611-e7a160d9b0e0"
      },
      "execution_count": 39,
      "outputs": [
        {
          "output_type": "stream",
          "name": "stdout",
          "text": [
            "Naive Bayes Classifier for TFidf:\n",
            "0 Iteration : Accuracy = 0.98059    F1_Score = 0.98061\n",
            "1 Iteration : Accuracy = 0.98059    F1_Score = 0.98066\n",
            "2 Iteration : Accuracy = 0.97603    F1_Score = 0.97606\n",
            "3 Iteration : Accuracy = 0.97717    F1_Score = 0.97722\n",
            "4 Iteration : Accuracy = 0.97717    F1_Score = 0.97715\n"
          ]
        }
      ]
    },
    {
      "cell_type": "code",
      "source": [
        "print(\"Random Forest Classifier for Tfidf :\")\n",
        "for i,(train_index,val_index)  in enumerate(StratifiedKFold(n_splits=5,shuffle=True,random_state=42).split(X_tf,y)):\n",
        "    rf = RandomForestClassifier(n_jobs=-1)\n",
        "    rf.fit(X[train_index],y[train_index])\n",
        "    pred=rf.predict(X[val_index])\n",
        "    accuracy, precision, recall, f1 = get_metrics(y[val_index], pred)\n",
        "    print(str(i)+\" Iteration : Accuracy = %.5f     F1_Score = %.5f\" % (accuracy, f1))"
      ],
      "metadata": {
        "colab": {
          "base_uri": "https://localhost:8080/"
        },
        "id": "x6deYNLvDKJD",
        "outputId": "7e4643df-217d-48e9-ca63-3355acb8c02d"
      },
      "execution_count": 40,
      "outputs": [
        {
          "output_type": "stream",
          "name": "stdout",
          "text": [
            "Random Forest Classifier for Tfidf :\n",
            "0 Iteration : Accuracy = 0.91096     F1_Score = 0.91235\n",
            "1 Iteration : Accuracy = 0.92237     F1_Score = 0.92335\n",
            "2 Iteration : Accuracy = 0.89269     F1_Score = 0.89604\n",
            "3 Iteration : Accuracy = 0.92237     F1_Score = 0.92322\n",
            "4 Iteration : Accuracy = 0.90868     F1_Score = 0.91055\n"
          ]
        }
      ]
    },
    {
      "cell_type": "code",
      "source": [
        "import pandas as pd"
      ],
      "metadata": {
        "id": "6FIHchsWEAaD"
      },
      "execution_count": 41,
      "outputs": []
    },
    {
      "cell_type": "code",
      "source": [
        "chimp = pd.read_table('/content/drive/MyDrive/chimp_data.txt')\n",
        "dog = pd.read_table('/content/drive/MyDrive/dog_data.txt')\n",
        "chimp.head()\n",
        "dog.head()"
      ],
      "metadata": {
        "colab": {
          "base_uri": "https://localhost:8080/",
          "height": 206
        },
        "id": "35z1ah6tDOzS",
        "outputId": "1e52d90d-bea9-4cbb-e823-cde115a78d1a"
      },
      "execution_count": 42,
      "outputs": [
        {
          "output_type": "execute_result",
          "data": {
            "text/plain": [
              "                                            sequence  class\n",
              "0  ATGCCACAGCTAGATACATCCACCTGATTTATTATAATCTTTTCAA...      4\n",
              "1  ATGAACGAAAATCTATTCGCTTCTTTCGCTGCCCCCTCAATAATAG...      4\n",
              "2  ATGGAAACACCCTTCTACGGCGATGAGGCGCTGAGCGGCCTGGGCG...      6\n",
              "3  ATGTGCACTAAAATGGAACAGCCCTTCTACCACGACGACTCATACG...      6\n",
              "4  ATGAGCCGGCAGCTAAACAGAAGCCAGAACTGCTCCTTCAGTGACG...      0"
            ],
            "text/html": [
              "\n",
              "  <div id=\"df-6defdc55-6b14-4961-810b-270b7e6bd30d\">\n",
              "    <div class=\"colab-df-container\">\n",
              "      <div>\n",
              "<style scoped>\n",
              "    .dataframe tbody tr th:only-of-type {\n",
              "        vertical-align: middle;\n",
              "    }\n",
              "\n",
              "    .dataframe tbody tr th {\n",
              "        vertical-align: top;\n",
              "    }\n",
              "\n",
              "    .dataframe thead th {\n",
              "        text-align: right;\n",
              "    }\n",
              "</style>\n",
              "<table border=\"1\" class=\"dataframe\">\n",
              "  <thead>\n",
              "    <tr style=\"text-align: right;\">\n",
              "      <th></th>\n",
              "      <th>sequence</th>\n",
              "      <th>class</th>\n",
              "    </tr>\n",
              "  </thead>\n",
              "  <tbody>\n",
              "    <tr>\n",
              "      <th>0</th>\n",
              "      <td>ATGCCACAGCTAGATACATCCACCTGATTTATTATAATCTTTTCAA...</td>\n",
              "      <td>4</td>\n",
              "    </tr>\n",
              "    <tr>\n",
              "      <th>1</th>\n",
              "      <td>ATGAACGAAAATCTATTCGCTTCTTTCGCTGCCCCCTCAATAATAG...</td>\n",
              "      <td>4</td>\n",
              "    </tr>\n",
              "    <tr>\n",
              "      <th>2</th>\n",
              "      <td>ATGGAAACACCCTTCTACGGCGATGAGGCGCTGAGCGGCCTGGGCG...</td>\n",
              "      <td>6</td>\n",
              "    </tr>\n",
              "    <tr>\n",
              "      <th>3</th>\n",
              "      <td>ATGTGCACTAAAATGGAACAGCCCTTCTACCACGACGACTCATACG...</td>\n",
              "      <td>6</td>\n",
              "    </tr>\n",
              "    <tr>\n",
              "      <th>4</th>\n",
              "      <td>ATGAGCCGGCAGCTAAACAGAAGCCAGAACTGCTCCTTCAGTGACG...</td>\n",
              "      <td>0</td>\n",
              "    </tr>\n",
              "  </tbody>\n",
              "</table>\n",
              "</div>\n",
              "      <button class=\"colab-df-convert\" onclick=\"convertToInteractive('df-6defdc55-6b14-4961-810b-270b7e6bd30d')\"\n",
              "              title=\"Convert this dataframe to an interactive table.\"\n",
              "              style=\"display:none;\">\n",
              "        \n",
              "  <svg xmlns=\"http://www.w3.org/2000/svg\" height=\"24px\"viewBox=\"0 0 24 24\"\n",
              "       width=\"24px\">\n",
              "    <path d=\"M0 0h24v24H0V0z\" fill=\"none\"/>\n",
              "    <path d=\"M18.56 5.44l.94 2.06.94-2.06 2.06-.94-2.06-.94-.94-2.06-.94 2.06-2.06.94zm-11 1L8.5 8.5l.94-2.06 2.06-.94-2.06-.94L8.5 2.5l-.94 2.06-2.06.94zm10 10l.94 2.06.94-2.06 2.06-.94-2.06-.94-.94-2.06-.94 2.06-2.06.94z\"/><path d=\"M17.41 7.96l-1.37-1.37c-.4-.4-.92-.59-1.43-.59-.52 0-1.04.2-1.43.59L10.3 9.45l-7.72 7.72c-.78.78-.78 2.05 0 2.83L4 21.41c.39.39.9.59 1.41.59.51 0 1.02-.2 1.41-.59l7.78-7.78 2.81-2.81c.8-.78.8-2.07 0-2.86zM5.41 20L4 18.59l7.72-7.72 1.47 1.35L5.41 20z\"/>\n",
              "  </svg>\n",
              "      </button>\n",
              "      \n",
              "  <style>\n",
              "    .colab-df-container {\n",
              "      display:flex;\n",
              "      flex-wrap:wrap;\n",
              "      gap: 12px;\n",
              "    }\n",
              "\n",
              "    .colab-df-convert {\n",
              "      background-color: #E8F0FE;\n",
              "      border: none;\n",
              "      border-radius: 50%;\n",
              "      cursor: pointer;\n",
              "      display: none;\n",
              "      fill: #1967D2;\n",
              "      height: 32px;\n",
              "      padding: 0 0 0 0;\n",
              "      width: 32px;\n",
              "    }\n",
              "\n",
              "    .colab-df-convert:hover {\n",
              "      background-color: #E2EBFA;\n",
              "      box-shadow: 0px 1px 2px rgba(60, 64, 67, 0.3), 0px 1px 3px 1px rgba(60, 64, 67, 0.15);\n",
              "      fill: #174EA6;\n",
              "    }\n",
              "\n",
              "    [theme=dark] .colab-df-convert {\n",
              "      background-color: #3B4455;\n",
              "      fill: #D2E3FC;\n",
              "    }\n",
              "\n",
              "    [theme=dark] .colab-df-convert:hover {\n",
              "      background-color: #434B5C;\n",
              "      box-shadow: 0px 1px 3px 1px rgba(0, 0, 0, 0.15);\n",
              "      filter: drop-shadow(0px 1px 2px rgba(0, 0, 0, 0.3));\n",
              "      fill: #FFFFFF;\n",
              "    }\n",
              "  </style>\n",
              "\n",
              "      <script>\n",
              "        const buttonEl =\n",
              "          document.querySelector('#df-6defdc55-6b14-4961-810b-270b7e6bd30d button.colab-df-convert');\n",
              "        buttonEl.style.display =\n",
              "          google.colab.kernel.accessAllowed ? 'block' : 'none';\n",
              "\n",
              "        async function convertToInteractive(key) {\n",
              "          const element = document.querySelector('#df-6defdc55-6b14-4961-810b-270b7e6bd30d');\n",
              "          const dataTable =\n",
              "            await google.colab.kernel.invokeFunction('convertToInteractive',\n",
              "                                                     [key], {});\n",
              "          if (!dataTable) return;\n",
              "\n",
              "          const docLinkHtml = 'Like what you see? Visit the ' +\n",
              "            '<a target=\"_blank\" href=https://colab.research.google.com/notebooks/data_table.ipynb>data table notebook</a>'\n",
              "            + ' to learn more about interactive tables.';\n",
              "          element.innerHTML = '';\n",
              "          dataTable['output_type'] = 'display_data';\n",
              "          await google.colab.output.renderOutput(dataTable, element);\n",
              "          const docLink = document.createElement('div');\n",
              "          docLink.innerHTML = docLinkHtml;\n",
              "          element.appendChild(docLink);\n",
              "        }\n",
              "      </script>\n",
              "    </div>\n",
              "  </div>\n",
              "  "
            ]
          },
          "metadata": {},
          "execution_count": 42
        }
      ]
    },
    {
      "cell_type": "code",
      "source": [
        "chimp['words'] = chimp.apply(lambda x: getKmers(x['sequence']), axis=1)\n",
        "dog['words'] = dog.apply(lambda x: getKmers(x['sequence']), axis=1)"
      ],
      "metadata": {
        "id": "NFTZpG3QEG_U"
      },
      "execution_count": 43,
      "outputs": []
    },
    {
      "cell_type": "code",
      "source": [
        "chimp_texts = list(chimp['words'])\n",
        "for item in range(len(chimp_texts)):\n",
        "    chimp_texts[item] = ' '.join(chimp_texts[item])\n",
        "y_c = chimp.iloc[:, 1].values                       # y_c for chimp\n",
        "\n",
        "dog_texts = list(dog['words'])\n",
        "for item in range(len(dog_texts)):\n",
        "    dog_texts[item] = ' '.join(dog_texts[item])\n",
        "y_d = dog.iloc[:, 1].values  "
      ],
      "metadata": {
        "id": "wJAFF245Dpjw"
      },
      "execution_count": 44,
      "outputs": []
    },
    {
      "cell_type": "code",
      "source": [
        "X_chimp = cv.transform(chimp_texts)\n",
        "X_dog = cv.transform(dog_texts)\n"
      ],
      "metadata": {
        "id": "etd-SxvIFvqb"
      },
      "execution_count": 45,
      "outputs": []
    },
    {
      "cell_type": "code",
      "source": [
        "print(X_chimp.shape)\n",
        "print(X_dog.shape)"
      ],
      "metadata": {
        "colab": {
          "base_uri": "https://localhost:8080/"
        },
        "id": "n6K7WXqfFxyF",
        "outputId": "34573ee3-808c-497b-9399-fb819f837572"
      },
      "execution_count": 46,
      "outputs": [
        {
          "output_type": "stream",
          "name": "stdout",
          "text": [
            "(1682, 232414)\n",
            "(820, 232414)\n"
          ]
        }
      ]
    },
    {
      "cell_type": "code",
      "source": [
        "plt.figure(figsize=(11,5))\n",
        "plt.subplot(1,2,1)\n",
        "chimp['class'].value_counts().sort_index().plot.bar()\n",
        "plt.title(\"Chimpanzee Data\");\n",
        "plt.subplot(1,2,2)\n",
        "dog['class'].value_counts().sort_index().plot.bar()\n",
        "plt.title(\"Dog Data\");"
      ],
      "metadata": {
        "colab": {
          "base_uri": "https://localhost:8080/",
          "height": 335
        },
        "id": "o5dBUlPnF3lS",
        "outputId": "20fc1303-9ba7-424d-f061-c28946b3e1d0"
      },
      "execution_count": 47,
      "outputs": [
        {
          "output_type": "display_data",
          "data": {
            "text/plain": [
              "<Figure size 792x360 with 2 Axes>"
            ],
            "image/png": "[encoded data removed]"
          },
          "metadata": {}
        }
      ]
    },
    {
      "cell_type": "code",
      "source": [
        "# Predicting the chimp, dog and worm sequences\n",
        "y_pred_chimp = nb_.predict(X_chimp)\n",
        "y_pred_dog = nb_.predict(X_dog)"
      ],
      "metadata": {
        "id": "DrvAvaCuF6rr"
      },
      "execution_count": 48,
      "outputs": []
    },
    {
      "cell_type": "code",
      "source": [
        "print(\"Confusion matrix\\n\")\n",
        "print(pd.crosstab(pd.Series(y_c, name='Actual'), pd.Series(y_pred_chimp, name='Predicted')))\n",
        "accuracy, precision, recall, f1 = get_metrics(y_c, y_pred_chimp)\n",
        "print(\"accuracy = %.3f \\nprecision = %.3f \\nrecall = %.3f \\nf1 = %.3f\" % (accuracy, precision, recall, f1))"
      ],
      "metadata": {
        "colab": {
          "base_uri": "https://localhost:8080/"
        },
        "id": "HopxUfsMF9v8",
        "outputId": "e8ede898-4be6-4d37-be31-58bffaace0c5"
      },
      "execution_count": 49,
      "outputs": [
        {
          "output_type": "stream",
          "name": "stdout",
          "text": [
            "Confusion matrix\n",
            "\n",
            "Predicted    0    1    2    3    4    5    6\n",
            "Actual                                      \n",
            "0          231    0    0    0    0    0    3\n",
            "1            0  179    0    0    0    0    6\n",
            "2            0    0  144    0    0    0    0\n",
            "3            0    0    0  225    0    0    3\n",
            "4            1    0    0    0  253    0    7\n",
            "5            0    0    0    0    0  109    0\n",
            "6            0    0    0    0    0    0  521\n",
            "accuracy = 0.988 \n",
            "precision = 0.989 \n",
            "recall = 0.988 \n",
            "f1 = 0.988\n"
          ]
        }
      ]
    },
    {
      "cell_type": "code",
      "source": [
        "print(\"Confusion matrix\\n\")\n",
        "print(pd.crosstab(pd.Series(y_d, name='Actual'), pd.Series(y_pred_dog, name='Predicted')))\n",
        "accuracy, precision, recall, f1 = get_metrics(y_d, y_pred_dog)\n",
        "print(\"accuracy = %.3f \\nprecision = %.3f \\nrecall = %.3f \\nf1 = %.3f\" % (accuracy, precision, recall, f1))"
      ],
      "metadata": {
        "colab": {
          "base_uri": "https://localhost:8080/"
        },
        "id": "u69E76RuF_eP",
        "outputId": "144f0014-8051-4292-c5f6-91d087ec613d"
      },
      "execution_count": 50,
      "outputs": [
        {
          "output_type": "stream",
          "name": "stdout",
          "text": [
            "Confusion matrix\n",
            "\n",
            "Predicted    0   1   2   3    4   5    6\n",
            "Actual                                  \n",
            "0          124   0   0   0    0   0    7\n",
            "1            0  52   0   0    0   0   23\n",
            "2            0   0  43   0    0   0   21\n",
            "3            1   0   0  64    1   0   29\n",
            "4            0   0   0   0  110   0   25\n",
            "5            0   0   0   0    0  40   20\n",
            "6            0   0   0   0    0   0  260\n",
            "accuracy = 0.845 \n",
            "precision = 0.894 \n",
            "recall = 0.845 \n",
            "f1 = 0.847\n"
          ]
        }
      ]
    }
  ]
}